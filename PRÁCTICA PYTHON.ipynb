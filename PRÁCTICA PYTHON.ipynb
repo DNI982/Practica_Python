{
 "cells": [
  {
   "cell_type": "code",
   "execution_count": null,
   "id": "fb57a806-59fe-40bb-b101-930b3034ae98",
   "metadata": {},
   "outputs": [],
   "source": [
    "\"\"\"\n",
    "---\n",
    "## Ejercicio 1: \n",
    "\"\"\"\n",
    "precio_producto = 100\n",
    "iva = 0.12\n",
    "importe_iva = precio_producto * iva\n",
    "precio_final = precio_producto + importe_iva\n",
    "\n",
    "print(f\"Importe del IVA: Q. {importe_iva}\")\n",
    "print(f\"Precio final: Q. {precio_final}\")\n",
    "\n",
    "\"\"\"\n",
    "---\n",
    "## Ejercicio 2: \n",
    "\"\"\"\n",
    "numero = 10\n",
    "\n",
    "if 0 <= numero <= 10:\n",
    "    print(\"El número está entre 0 y 10.\")\n",
    "else:\n",
    "    print(\"El número no está entre 0 y 10.\")\n",
    "\n",
    "\"\"\"\n",
    "---\n",
    "## Ejercicio 3: \n",
    "\"\"\"\n",
    "numero1 = 21\n",
    "\n",
    "if 0 <= numero1 <= 10:\n",
    "    print(\"El número está entre 0 y 10.\")\n",
    "elif 11 <= numero1 <= 20:\n",
    "    print(\"El número está entre 11 y 20.\")\n",
    "elif 21 <= numero1 <= 30:\n",
    "    print(\"El número está entre 21 y 30.\")\n",
    "\n",
    "\"\"\"\n",
    "---\n",
    "## Ejercicio 4: \n",
    "\"\"\"\n",
    "contador = 1\n",
    "while contador <= 100:\n",
    "    print(contador)\n",
    "    contador += 1\n",
    "\n",
    "\"\"\"\n",
    "---\n",
    "## Ejercicio 5: \n",
    "\"\"\"\n",
    "for numero in range(1, 101):\n",
    "    print(numero)\n",
    "\n",
    "    "
   ]
  },
  {
   "cell_type": "code",
   "execution_count": null,
   "id": "aa8f216e-7da5-49c7-93af-6621a97108a1",
   "metadata": {},
   "outputs": [],
   "source": []
  }
 ],
 "metadata": {
  "kernelspec": {
   "display_name": "",
   "name": ""
  },
  "language_info": {
   "name": ""
  }
 },
 "nbformat": 4,
 "nbformat_minor": 5
}
